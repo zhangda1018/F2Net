{
 "cells": [
  {
   "cell_type": "code",
   "execution_count": 1,
   "id": "6a976437",
   "metadata": {},
   "outputs": [],
   "source": [
    "import numpy as np\n",
    "\n",
    "# normalization\n",
    "full_data = np.loadtxt(fname='./train_FD001.txt', dtype=np.float32)\n",
    "full_test = np.loadtxt(fname='./test_FD001.txt', dtype=np.float32)\n",
    "\n",
    "# engineID and working time cycle \n",
    "prefix_data = full_data[:, [0, 1]]\n",
    "prefix_test = full_test[:, [0, 1]]\n",
    "# operational settings and raw sensor data\n",
    "inputs_data = full_data[:, 2:]\n",
    "inputs_test = full_test[:, 2:]\n",
    "# avoid devide zero\n",
    "eps = 1e-12\n",
    "\n",
    "min = np.min(inputs_data, axis=0)\n",
    "max = np.max(inputs_data, axis=0)\n",
    "\n",
    "normed_data = (inputs_data - min) / (max - min + eps)\n",
    "normed_test = (inputs_test - min) / (max - min + eps)\n",
    "\n",
    "output_data = np.concatenate((prefix_data, normed_data), axis=1)\n",
    "output_test = np.concatenate((prefix_test, normed_test), axis=1)\n",
    "np.savetxt('./train_FD001_normed.txt', output_data, fmt='%f')\n",
    "np.savetxt('./test_FD001_normed.txt', output_test, fmt='%f')"
   ]
  },
  {
   "cell_type": "code",
   "execution_count": null,
   "id": "1cd3343e",
   "metadata": {},
   "outputs": [],
   "source": []
  }
 ],
 "metadata": {
  "kernelspec": {
   "display_name": "Python 3 (ipykernel)",
   "language": "python",
   "name": "python3"
  },
  "language_info": {
   "codemirror_mode": {
    "name": "ipython",
    "version": 3
   },
   "file_extension": ".py",
   "mimetype": "text/x-python",
   "name": "python",
   "nbconvert_exporter": "python",
   "pygments_lexer": "ipython3",
   "version": "3.10.4"
  }
 },
 "nbformat": 4,
 "nbformat_minor": 5
}
